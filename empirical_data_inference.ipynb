{
 "cells": [
  {
   "cell_type": "markdown",
   "id": "9f06cd21",
   "metadata": {},
   "source": [
    "# Empirical Data Inference\n",
    "Infer evolutionary parameters from empirical data with the ensemble density estimators."
   ]
  },
  {
   "cell_type": "code",
   "execution_count": 1,
   "id": "e71e9e07",
   "metadata": {},
   "outputs": [],
   "source": [
    "import torch\n",
    "import numpy as np\n",
    "import pandas as pd\n",
    "import arviz as az\n",
    "import matplotlib.pyplot as plt\n",
    "import seaborn as sns\n",
    "from os.path import join\n",
    "from model.simulator import simulate\n",
    "from utils import get_ensemble_predictions, calc_stats, sbi_post, get_mode_and_hdi, grab_short_sumstat, grab_long_sumstat, grab_man_sumstat\n",
    "from model.params import readable_prior as prior \n",
    "from plotting import plot_from_post, set_plots_size_params, compare_posts, short_sumstats_plot, compare_posts_across_lines\n",
    "set_plots_size_params(20)"
   ]
  },
  {
   "cell_type": "code",
   "execution_count": 2,
   "id": "6d9987e3",
   "metadata": {},
   "outputs": [],
   "source": [
    "rename_dict = {'mu': r'Mutation rate (U)', 'w_ada': r'Beneficial fitness effect ($w_{b}$)', \n",
    "               'w_syn': r'Syn fitness effect ($w_{s}$)', \n",
    "               'w_non_syn': r'Non-syn fitness effect ($w_{ns}$)', 'p_ada_non_syn': r'Beneficial non-syn probability ($p_{bns}$)',\n",
    "               'p_ada_syn': r'Beneficial syn probability ($p_{bs}$)', 'p0_non_syn': r'Mean initial non-syn ($M_{ns}$)', \n",
    "               'p0_syn': r'Mean initial syn ($M_{s}$)',\n",
    "               'w_penalty': r'Initial log-fitness correlation ($\\delta$)', 'epistasis_boost': r'Epistasis effect ($\\eta$)'}\n"
   ]
  },
  {
   "cell_type": "code",
   "execution_count": 3,
   "id": "8556d1b2",
   "metadata": {},
   "outputs": [],
   "source": [
    "def infer_and_plot(ensemble_path, input_data, man_sumstat, syn_prob, sumstats_to_simulate=10,\n",
    "                   plot_hdi=True, plot_short_PPC=True, plot_long_PPC=True, plot_freqs=True, samples_per_model=200):\n",
    "    post, stats = get_ensemble_predictions(ensemble_path, input_data, None, prior, samples_per_model=samples_per_model)\n",
    "    print(stats[stats.model=='ensemble'])\n",
    "    post = post.rename(columns=rename_dict)\n",
    "    post = post[rename_dict.values()]\n",
    "    simulated_data = plot_from_post(post, stats, man_sumstat, num_of_samples=sumstats_to_simulate, syn_prob=syn_prob,\n",
    "                                    plot_hdi=plot_hdi, plot_short_PPC=plot_short_PPC, plot_freqs=plot_freqs,\n",
    "                                    plot_long_PPC=plot_long_PPC)\n",
    "    return post, stats, simulated_data\n"
   ]
  },
  {
   "cell_type": "code",
   "execution_count": 4,
   "id": "a24efdcc",
   "metadata": {},
   "outputs": [],
   "source": [
    "# EB=1 --> no epistasis!, 0<EB<1 --> weak negative, EB<0 --> sign epistasis!\n",
    "# PP=0 --> P0 muts are neutral, PP=1 --> P0 muts are not as deleterious as the rest of the muts"
   ]
  },
  {
   "cell_type": "code",
   "execution_count": 5,
   "id": "6da64b30",
   "metadata": {},
   "outputs": [],
   "source": [
    "loop_coding = {}\n",
    "loop_coding_short = {}\n",
    "loop_coding_man = {}\n",
    "\n",
    "def grab_long(sumstat):\n",
    "    return sumstat[:204]\n",
    "\n",
    "def grab_short(sumstat):\n",
    "    return sumstat[:6]\n",
    "\n",
    "def grab_man(sumstat):\n",
    "    return np.concatenate((sumstat[:6],sumstat[204:]))\n",
    "\n",
    "line_replica = {1: 'A', 2: 'B', 3: 'C'}\n",
    "\n",
    "for i in range(1,4):\n",
    "    total_coding_sumstat = torch.load(join('data_analysis', f'line{i}_total_sumstat.pt'))\n",
    "    loop_coding[line_replica[i]] = grab_long(total_coding_sumstat)\n",
    "    loop_coding_man[line_replica[i]] = grab_man(total_coding_sumstat)\n",
    "    loop_coding_short[line_replica[i]] = grab_short(total_coding_sumstat)\n",
    "\n",
    "syn_prob = 0.278"
   ]
  },
  {
   "cell_type": "code",
   "execution_count": 6,
   "id": "91fa4450",
   "metadata": {},
   "outputs": [],
   "source": [
    "def get_ensemble_path(errs, replica, sumstat_type):\n",
    "    return join('density_estimators', f'{errs} error rate', 'ensembles', replica, sumstat_type)\n"
   ]
  },
  {
   "cell_type": "markdown",
   "id": "bea34189",
   "metadata": {},
   "source": [
    "# LR Inference"
   ]
  },
  {
   "cell_type": "code",
   "execution_count": 7,
   "id": "2ceaeeeb",
   "metadata": {},
   "outputs": [],
   "source": [
    "inf_LR = {}"
   ]
  },
  {
   "cell_type": "code",
   "execution_count": 8,
   "id": "c393f38f",
   "metadata": {
    "scrolled": true
   },
   "outputs": [
    {
     "data": {
      "application/vnd.jupyter.widget-view+json": {
       "model_id": "ce84c1424bbd47a7826d3e82b007bd5f",
       "version_major": 2,
       "version_minor": 0
      },
      "text/plain": [
       "Drawing 1000 posterior samples:   0%|          | 0/1000 [00:00<?, ?it/s]"
      ]
     },
     "metadata": {},
     "output_type": "display_data"
    },
    {
     "name": "stderr",
     "output_type": "stream",
     "text": [
      "/sternadi/home/volume2/ita/ms2-mutation-rate/utils.py:60: RuntimeWarning: divide by zero encountered in log\n",
      "  divergence = np.sum(np.where(P!=0, P*np.log(P/Q), 0))\n",
      "/sternadi/home/volume2/ita/ms2-mutation-rate/utils.py:60: RuntimeWarning: invalid value encountered in multiply\n",
      "  divergence = np.sum(np.where(P!=0, P*np.log(P/Q), 0))\n"
     ]
    },
    {
     "data": {
      "application/vnd.jupyter.widget-view+json": {
       "model_id": "8fb55118c0a34e6ea79dbce066cccc5a",
       "version_major": 2,
       "version_minor": 0
      },
      "text/plain": [
       "Drawing 1000 posterior samples:   0%|          | 0/1000 [00:00<?, ?it/s]"
      ]
     },
     "metadata": {},
     "output_type": "display_data"
    },
    {
     "data": {
      "application/vnd.jupyter.widget-view+json": {
       "model_id": "83743d97879d46f8a6888043dfaccceb",
       "version_major": 2,
       "version_minor": 0
      },
      "text/plain": [
       "Drawing 1000 posterior samples:   0%|          | 0/1000 [00:00<?, ?it/s]"
      ]
     },
     "metadata": {},
     "output_type": "display_data"
    },
    {
     "data": {
      "application/vnd.jupyter.widget-view+json": {
       "model_id": "7df5f13de7ee4b0998fa5a0202268a47",
       "version_major": 2,
       "version_minor": 0
      },
      "text/plain": [
       "Drawing 1000 posterior samples:   0%|          | 0/1000 [00:00<?, ?it/s]"
      ]
     },
     "metadata": {},
     "output_type": "display_data"
    },
    {
     "data": {
      "application/vnd.jupyter.widget-view+json": {
       "model_id": "debd72f6318744b893e29d2c2d83c9f8",
       "version_major": 2,
       "version_minor": 0
      },
      "text/plain": [
       "Drawing 1000 posterior samples:   0%|          | 0/1000 [00:00<?, ?it/s]"
      ]
     },
     "metadata": {},
     "output_type": "display_data"
    },
    {
     "data": {
      "application/vnd.jupyter.widget-view+json": {
       "model_id": "edda6509bad9412b9c664cab754c7b0c",
       "version_major": 2,
       "version_minor": 0
      },
      "text/plain": [
       "Drawing 1000 posterior samples:   0%|          | 0/1000 [00:00<?, ?it/s]"
      ]
     },
     "metadata": {},
     "output_type": "display_data"
    },
    {
     "data": {
      "application/vnd.jupyter.widget-view+json": {
       "model_id": "0adb0d4f4ec542e9ad23af18a806cf97",
       "version_major": 2,
       "version_minor": 0
      },
      "text/plain": [
       "Drawing 1000 posterior samples:   0%|          | 0/1000 [00:00<?, ?it/s]"
      ]
     },
     "metadata": {},
     "output_type": "display_data"
    },
    {
     "data": {
      "application/vnd.jupyter.widget-view+json": {
       "model_id": "60633569e6fb4bf69754bc25687ba62b",
       "version_major": 2,
       "version_minor": 0
      },
      "text/plain": [
       "Drawing 1000 posterior samples:   0%|          | 0/1000 [00:00<?, ?it/s]"
      ]
     },
     "metadata": {},
     "output_type": "display_data"
    },
    {
     "name": "stdout",
     "output_type": "stream",
     "text": [
      "             param      mode  hdi95_low       DKL  hdi95_high  hdi50_low  \\\n",
      "0               mu -0.640000  -1.426124  1.123279    0.299631  -0.815792   \n",
      "1            w_syn  0.909000   0.515023  1.007128    0.999971   0.785608   \n",
      "2        w_non_syn  0.600000   0.213381  0.748881    0.926160   0.516286   \n",
      "3            w_ada  1.611000   1.181455  0.910725    2.432627   1.443089   \n",
      "4        p_ada_syn  0.000641   0.000002  1.211527    0.003921   0.000169   \n",
      "5    p_ada_non_syn  0.008180   0.003063  0.764548    0.009991   0.006188   \n",
      "6           p0_syn  0.533000   0.450342  0.723872    0.599882   0.512149   \n",
      "7       p0_non_syn  0.785000   0.702432  0.624025    0.878432   0.757203   \n",
      "8        w_penalty  0.049800   0.000144  0.975747    1.254580   0.009334   \n",
      "9  epistasis_boost  0.460000  -0.908896  0.844522    1.723327  -0.035377   \n",
      "\n",
      "   hdi50_high     model  \n",
      "0   -0.273429  ensemble  \n",
      "1    0.959088  ensemble  \n",
      "2    0.791022  ensemble  \n",
      "3    1.827461  ensemble  \n",
      "4    0.001417  ensemble  \n",
      "5    0.008873  ensemble  \n",
      "6    0.569520  ensemble  \n",
      "7    0.828261  ensemble  \n",
      "8    0.328935  ensemble  \n",
      "9    0.828787  ensemble  \n"
     ]
    }
   ],
   "source": [
    "errs = '5e-05'\n",
    "sumstat_type = 'LR'\n",
    "replica = 'A'\n",
    "ensemble_path = get_ensemble_path(errs, replica, sumstat_type)\n",
    "inf_LR[replica] = infer_and_plot(ensemble_path, loop_coding[replica], man_sumstat=loop_coding_man[replica],\n",
    "                                   sumstats_to_simulate=10, plot_hdi=False, plot_freqs=False, plot_short_PPC=False,\n",
    "                                   plot_long_PPC=False, samples_per_model=1000, syn_prob=syn_prob)\n"
   ]
  },
  {
   "cell_type": "code",
   "execution_count": 9,
   "id": "54ed4feb",
   "metadata": {},
   "outputs": [
    {
     "data": {
      "application/vnd.jupyter.widget-view+json": {
       "model_id": "9870df0b0ab847d19ce4bfc5dfad0535",
       "version_major": 2,
       "version_minor": 0
      },
      "text/plain": [
       "Drawing 1000 posterior samples:   0%|          | 0/1000 [00:00<?, ?it/s]"
      ]
     },
     "metadata": {},
     "output_type": "display_data"
    },
    {
     "name": "stderr",
     "output_type": "stream",
     "text": [
      "/sternadi/home/volume2/ita/ms2-mutation-rate/utils.py:60: RuntimeWarning: divide by zero encountered in log\n",
      "  divergence = np.sum(np.where(P!=0, P*np.log(P/Q), 0))\n",
      "/sternadi/home/volume2/ita/ms2-mutation-rate/utils.py:60: RuntimeWarning: invalid value encountered in multiply\n",
      "  divergence = np.sum(np.where(P!=0, P*np.log(P/Q), 0))\n"
     ]
    },
    {
     "data": {
      "application/vnd.jupyter.widget-view+json": {
       "model_id": "50c4f4ff942e4307b86fd55fc208f49b",
       "version_major": 2,
       "version_minor": 0
      },
      "text/plain": [
       "Drawing 1000 posterior samples:   0%|          | 0/1000 [00:00<?, ?it/s]"
      ]
     },
     "metadata": {},
     "output_type": "display_data"
    },
    {
     "data": {
      "application/vnd.jupyter.widget-view+json": {
       "model_id": "954cf9225a4b4c41bb8b872b324464b5",
       "version_major": 2,
       "version_minor": 0
      },
      "text/plain": [
       "Drawing 1000 posterior samples:   0%|          | 0/1000 [00:00<?, ?it/s]"
      ]
     },
     "metadata": {},
     "output_type": "display_data"
    },
    {
     "data": {
      "application/vnd.jupyter.widget-view+json": {
       "model_id": "262952d179c94efebcbe99e57a1fedb9",
       "version_major": 2,
       "version_minor": 0
      },
      "text/plain": [
       "Drawing 1000 posterior samples:   0%|          | 0/1000 [00:00<?, ?it/s]"
      ]
     },
     "metadata": {},
     "output_type": "display_data"
    },
    {
     "data": {
      "application/vnd.jupyter.widget-view+json": {
       "model_id": "d891a17afe1442c4ad4693e73f1da42b",
       "version_major": 2,
       "version_minor": 0
      },
      "text/plain": [
       "Drawing 1000 posterior samples:   0%|          | 0/1000 [00:00<?, ?it/s]"
      ]
     },
     "metadata": {},
     "output_type": "display_data"
    },
    {
     "data": {
      "application/vnd.jupyter.widget-view+json": {
       "model_id": "8675785da8b54399bd211cc392a123c6",
       "version_major": 2,
       "version_minor": 0
      },
      "text/plain": [
       "Drawing 1000 posterior samples:   0%|          | 0/1000 [00:00<?, ?it/s]"
      ]
     },
     "metadata": {},
     "output_type": "display_data"
    },
    {
     "data": {
      "application/vnd.jupyter.widget-view+json": {
       "model_id": "ff706b6c69504cde834715f1c27d1640",
       "version_major": 2,
       "version_minor": 0
      },
      "text/plain": [
       "Drawing 1000 posterior samples:   0%|          | 0/1000 [00:00<?, ?it/s]"
      ]
     },
     "metadata": {},
     "output_type": "display_data"
    },
    {
     "data": {
      "application/vnd.jupyter.widget-view+json": {
       "model_id": "7c1f9f14c81642b5ac87a21c50b65780",
       "version_major": 2,
       "version_minor": 0
      },
      "text/plain": [
       "Drawing 1000 posterior samples:   0%|          | 0/1000 [00:00<?, ?it/s]"
      ]
     },
     "metadata": {},
     "output_type": "display_data"
    },
    {
     "name": "stdout",
     "output_type": "stream",
     "text": [
      "             param      mode  hdi95_low       DKL  hdi95_high  hdi50_low  \\\n",
      "0               mu -0.621500  -1.876925  1.310404    0.148812  -1.055562   \n",
      "1            w_syn  0.906000   0.467473  0.982408    0.999862   0.812848   \n",
      "2        w_non_syn  0.610000   0.246449  0.746849    0.971860   0.585808   \n",
      "3            w_ada  1.611000   1.127236  0.880915    2.469238   1.452261   \n",
      "4        p_ada_syn  0.001695   0.000002  0.902905    0.005757   0.000887   \n",
      "5    p_ada_non_syn  0.007350   0.002437  0.705918    0.009998   0.004838   \n",
      "6           p0_syn  0.533000   0.446580  0.705306    0.599686   0.494146   \n",
      "7       p0_non_syn  0.769000   0.700409  0.690952    0.856719   0.733261   \n",
      "8        w_penalty  0.029950   0.000004  0.974349    1.295601   0.000031   \n",
      "9  epistasis_boost -0.260000  -0.999628  0.859591    1.432425  -0.406155   \n",
      "\n",
      "   hdi50_high     model  \n",
      "0   -0.441807  ensemble  \n",
      "1    0.984980  ensemble  \n",
      "2    0.859210  ensemble  \n",
      "3    1.842685  ensemble  \n",
      "4    0.002965  ensemble  \n",
      "5    0.007886  ensemble  \n",
      "6    0.553948  ensemble  \n",
      "7    0.794855  ensemble  \n",
      "8    0.320956  ensemble  \n",
      "9    0.458342  ensemble  \n"
     ]
    }
   ],
   "source": [
    "errs = '5e-05'\n",
    "sumstat_type = 'LR'\n",
    "replica = 'B'\n",
    "ensemble_path = get_ensemble_path(errs, replica, sumstat_type)\n",
    "inf_LR[replica] = infer_and_plot(ensemble_path, loop_coding[replica], man_sumstat=loop_coding_man[replica],\n",
    "                                   sumstats_to_simulate=10, plot_hdi=False, plot_freqs=False, plot_short_PPC=False,\n",
    "                                   plot_long_PPC=False, samples_per_model=1000, syn_prob=syn_prob)\n"
   ]
  },
  {
   "cell_type": "code",
   "execution_count": 10,
   "id": "9308e532",
   "metadata": {},
   "outputs": [
    {
     "data": {
      "application/vnd.jupyter.widget-view+json": {
       "model_id": "182f08285fd9441a95f1ec3b3d15a54e",
       "version_major": 2,
       "version_minor": 0
      },
      "text/plain": [
       "Drawing 1000 posterior samples:   0%|          | 0/1000 [00:00<?, ?it/s]"
      ]
     },
     "metadata": {},
     "output_type": "display_data"
    },
    {
     "name": "stderr",
     "output_type": "stream",
     "text": [
      "/sternadi/home/volume2/ita/ms2-mutation-rate/utils.py:60: RuntimeWarning: divide by zero encountered in log\n",
      "  divergence = np.sum(np.where(P!=0, P*np.log(P/Q), 0))\n",
      "/sternadi/home/volume2/ita/ms2-mutation-rate/utils.py:60: RuntimeWarning: invalid value encountered in multiply\n",
      "  divergence = np.sum(np.where(P!=0, P*np.log(P/Q), 0))\n"
     ]
    },
    {
     "data": {
      "application/vnd.jupyter.widget-view+json": {
       "model_id": "b3d051c83df74de489134c87e7094672",
       "version_major": 2,
       "version_minor": 0
      },
      "text/plain": [
       "Drawing 1000 posterior samples:   0%|          | 0/1000 [00:00<?, ?it/s]"
      ]
     },
     "metadata": {},
     "output_type": "display_data"
    },
    {
     "data": {
      "application/vnd.jupyter.widget-view+json": {
       "model_id": "435b72310e364c37b8f792b0833c1ee2",
       "version_major": 2,
       "version_minor": 0
      },
      "text/plain": [
       "Drawing 1000 posterior samples:   0%|          | 0/1000 [00:00<?, ?it/s]"
      ]
     },
     "metadata": {},
     "output_type": "display_data"
    },
    {
     "data": {
      "application/vnd.jupyter.widget-view+json": {
       "model_id": "a22fff5282af4e759c3b30b78583e2cb",
       "version_major": 2,
       "version_minor": 0
      },
      "text/plain": [
       "Drawing 1000 posterior samples:   0%|          | 0/1000 [00:00<?, ?it/s]"
      ]
     },
     "metadata": {},
     "output_type": "display_data"
    },
    {
     "data": {
      "application/vnd.jupyter.widget-view+json": {
       "model_id": "7c4f51e3127c48f3a47b66554651a9e8",
       "version_major": 2,
       "version_minor": 0
      },
      "text/plain": [
       "Drawing 1000 posterior samples:   0%|          | 0/1000 [00:00<?, ?it/s]"
      ]
     },
     "metadata": {},
     "output_type": "display_data"
    },
    {
     "data": {
      "application/vnd.jupyter.widget-view+json": {
       "model_id": "3d9e0600d6594faa8180cd16ecfd833a",
       "version_major": 2,
       "version_minor": 0
      },
      "text/plain": [
       "Drawing 1000 posterior samples:   0%|          | 0/1000 [00:00<?, ?it/s]"
      ]
     },
     "metadata": {},
     "output_type": "display_data"
    },
    {
     "data": {
      "application/vnd.jupyter.widget-view+json": {
       "model_id": "fbbca59fd0de4395b7b14e1569d55ef0",
       "version_major": 2,
       "version_minor": 0
      },
      "text/plain": [
       "Drawing 1000 posterior samples:   0%|          | 0/1000 [00:00<?, ?it/s]"
      ]
     },
     "metadata": {},
     "output_type": "display_data"
    },
    {
     "data": {
      "application/vnd.jupyter.widget-view+json": {
       "model_id": "601cce615dab49629064b77fda107d24",
       "version_major": 2,
       "version_minor": 0
      },
      "text/plain": [
       "Drawing 1000 posterior samples:   0%|          | 0/1000 [00:00<?, ?it/s]"
      ]
     },
     "metadata": {},
     "output_type": "display_data"
    },
    {
     "name": "stdout",
     "output_type": "stream",
     "text": [
      "             param     mode     hdi95_low       DKL  hdi95_high  hdi50_low  \\\n",
      "0               mu -0.99500 -2.057965e+00  1.836960   -0.062567  -1.382598   \n",
      "1            w_syn  0.94600  4.587391e-01  1.003331    0.999962   0.834267   \n",
      "2        w_non_syn  0.82700  2.771183e-01  0.774131    0.998922   0.680820   \n",
      "3            w_ada  2.07200  1.489180e+00  0.890114    2.693767   1.770131   \n",
      "4        p_ada_syn  0.00119  7.373063e-07  1.263081    0.003386   0.000543   \n",
      "5    p_ada_non_syn  0.00745  2.747026e-03  0.727037    0.010000   0.005890   \n",
      "6           p0_syn  0.55700  4.672091e-01  0.802583    0.599952   0.524449   \n",
      "7       p0_non_syn  0.79700  7.076993e-01  0.633123    0.879845   0.748441   \n",
      "8        w_penalty  0.03020  2.092182e-04  1.129116    1.111362   0.000241   \n",
      "9  epistasis_boost  0.13700 -9.741274e-01  0.954866    1.048787  -0.334356   \n",
      "\n",
      "   hdi50_high     model  \n",
      "0   -0.731466  ensemble  \n",
      "1    0.989558  ensemble  \n",
      "2    0.922795  ensemble  \n",
      "3    2.171740  ensemble  \n",
      "4    0.001754  ensemble  \n",
      "5    0.008810  ensemble  \n",
      "6    0.575515  ensemble  \n",
      "7    0.818948  ensemble  \n",
      "8    0.224614  ensemble  \n",
      "9    0.421210  ensemble  \n"
     ]
    }
   ],
   "source": [
    "errs = '5e-05'\n",
    "sumstat_type = 'LR'\n",
    "replica = 'C'\n",
    "ensemble_path = get_ensemble_path(errs, replica, sumstat_type)\n",
    "inf_LR[replica] = infer_and_plot(ensemble_path, loop_coding[replica], man_sumstat=loop_coding_man[replica],\n",
    "                                   sumstats_to_simulate=10, plot_hdi=False, plot_freqs=False, plot_short_PPC=False,\n",
    "                                   plot_long_PPC=False, samples_per_model=1000, syn_prob=syn_prob)\n"
   ]
  },
  {
   "cell_type": "code",
   "execution_count": null,
   "id": "82a6151a",
   "metadata": {},
   "outputs": [],
   "source": [
    "rename_dict = {'mu': r'Mutation rate (U)', 'w_ada': r'Beneficial fitness effect ($w_{b}$)', \n",
    "               'w_syn': r'Syn fitness effect ($w_{s}$)', \n",
    "               'w_non_syn': r'Non-syn fitness effect ($w_{ns}$)', 'p_ada_non_syn': r'Beneficial non-syn probability ($p_{bns}$)',\n",
    "               'p_ada_syn': r'Beneficial syn probability ($p_{bs}$)', 'p0_non_syn': r'Mean initial non-syn ($M_{ns}$)', \n",
    "               'p0_syn': r'Mean initial syn ($M_{s}$)',\n",
    "               'w_penalty': r'Initial log-fitness correlation ($\\delta$)', 'epistasis_boost': r'Epistasis effect ($\\eta$)'}\n"
   ]
  },
  {
   "cell_type": "code",
   "execution_count": 12,
   "id": "aaa7100c",
   "metadata": {},
   "outputs": [],
   "source": [
    "def compare_posts(posts, title_suffix='', colors=None, alpha=0.7):\n",
    "    fig, axes = plt.subplots(4, 3, figsize=(18,15), constrained_layout=True)\n",
    "    ax_dict = {r'Mutation rate (U)': (1,1), r'Syn fitness effect ($w_{s}$)': (1,2), \n",
    "               r'Non-syn fitness effect ($w_{ns}$)': (1,0), \n",
    "               r'Mean initial syn ($M_{s}$)': (0,0), r'Mean initial non-syn ($M_{ns}$)': (0,2),  \n",
    "               r'Beneficial fitness effect ($w_{b}$)': (3,0), r'Initial log-fitness correlation ($\\delta$)': (3,2), \n",
    "               r'Epistasis effect ($\\eta$)': (3,1), r'Beneficial syn probability ($p_{bs}$)': (2,2), \n",
    "               r'Beneficial non-syn probability ($p_{bns}$)': (2,0)}\n",
    "    if not colors:\n",
    "        colors = sns.color_palette(None)\n",
    "    title = 'Marginal Posteriors'\n",
    "    title += title_suffix\n",
    "    fig.suptitle(title)\n",
    "    legend = True\n",
    "    for col_name, ax_index in ax_dict.items():\n",
    "        ax = axes[ax_index]\n",
    "        col = 'err' if 'Mutation' in col_name else 'rel_err'\n",
    "        for i, (name, df) in enumerate(posts.items()):\n",
    "            df[col_name].hist(bins=20, label=name if legend else '_nolegend', ax=ax, alpha=alpha, color=colors[i])\n",
    "        ax.set_xlabel(col_name.replace('\\n', ' '))\n",
    "        ax.set_ylabel('Count')\n",
    "        legend = False\n",
    "    fig.delaxes(axes[(0,1)])\n",
    "    fig.delaxes(axes[(2,1)])\n",
    "    fig.legend(loc=(0.4,0.85))\n",
    "\n",
    "def compare_posts_across_lines(outputs_dict, colors=None, alpha=0.7):\n",
    "    if 'A' in outputs_dict.keys():\n",
    "        compare_posts({line: output[0] for line, output in outputs_dict.items()}, \n",
    "                      colors=colors, alpha=alpha, title_suffix=' by Replica')\n",
    "    else:\n",
    "        lines_dict = {1:'A', 2:'B', 3:'C'}\n",
    "        compare_posts({lines_dict[line]: output[0] for line, output in outputs_dict.items()}, \n",
    "                  colors=colors, alpha=alpha, title_suffix=' by Replica')\n"
   ]
  },
  {
   "cell_type": "code",
   "execution_count": 13,
   "id": "166815bc",
   "metadata": {},
   "outputs": [
    {
     "data": {
      "image/png": "[encoded data removed]",
      "text/plain": [
       "<Figure size 1296x1080 with 10 Axes>"
      ]
     },
     "metadata": {
      "needs_background": "light"
     },
     "output_type": "display_data"
    }
   ],
   "source": [
    "compare_posts_across_lines(inf_LR)"
   ]
  },
  {
   "cell_type": "markdown",
   "id": "6f1417ab",
   "metadata": {},
   "source": [
    "# L-LR Inference"
   ]
  },
  {
   "cell_type": "code",
   "execution_count": null,
   "id": "26bba4a7",
   "metadata": {},
   "outputs": [],
   "source": [
    "inf_LLR = {}"
   ]
  },
  {
   "cell_type": "markdown",
   "id": "39ac986f",
   "metadata": {},
   "source": [
    "## Figure 6"
   ]
  },
  {
   "cell_type": "code",
   "execution_count": null,
   "id": "23fb58e9",
   "metadata": {
    "scrolled": false
   },
   "outputs": [],
   "source": [
    "errs = '5e-05'\n",
    "sumstat_type = 'L-LR'\n",
    "replica = 'A'\n",
    "ensemble_path = get_ensemble_path(errs, replica, sumstat_type)\n",
    "inf_LLR[replica] = infer_and_plot(ensemble_path, loop_coding_man[replica], man_sumstat=loop_coding_man[replica],\n",
    "                                   sumstats_to_simulate=10, plot_hdi=False, plot_freqs=False, plot_short_PPC=False,\n",
    "                                   plot_long_PPC=True, samples_per_model=1000, syn_prob=syn_prob)\n"
   ]
  },
  {
   "cell_type": "code",
   "execution_count": null,
   "id": "cdcbaf3d",
   "metadata": {
    "scrolled": true
   },
   "outputs": [],
   "source": [
    "errs = '5e-05'\n",
    "sumstat_type = 'L-LR'\n",
    "replica = 'B'\n",
    "ensemble_path = get_ensemble_path(errs, replica, sumstat_type)\n",
    "inf_LLR[replica] = infer_and_plot(ensemble_path, loop_coding_man[replica], man_sumstat=loop_coding_man[replica],\n",
    "                                   sumstats_to_simulate=10, plot_hdi=False, plot_freqs=False, plot_short_PPC=False,\n",
    "                                   plot_long_PPC=False, samples_per_model=1000, syn_prob=syn_prob)\n"
   ]
  },
  {
   "cell_type": "code",
   "execution_count": null,
   "id": "aafd6589",
   "metadata": {},
   "outputs": [],
   "source": [
    "errs = '5e-05'\n",
    "sumstat_type = 'L-LR'\n",
    "replica = 'C'\n",
    "ensemble_path = get_ensemble_path(errs, replica, sumstat_type)\n",
    "inf_LLR[replica] = infer_and_plot(ensemble_path, loop_coding_man[replica], man_sumstat=loop_coding_man[replica],\n",
    "                                   sumstats_to_simulate=10, plot_hdi=False, plot_freqs=False, plot_short_PPC=False,\n",
    "                                   plot_long_PPC=False, samples_per_model=1000, syn_prob=syn_prob)\n"
   ]
  },
  {
   "cell_type": "code",
   "execution_count": null,
   "id": "d3f6a6e9",
   "metadata": {},
   "outputs": [],
   "source": [
    "compare_posts_across_lines(inf_LLR)"
   ]
  },
  {
   "cell_type": "markdown",
   "id": "0ceed6f7",
   "metadata": {},
   "source": [
    "# SR Inference"
   ]
  },
  {
   "cell_type": "code",
   "execution_count": null,
   "id": "9ef3488d",
   "metadata": {},
   "outputs": [],
   "source": [
    "inf_SR = {}"
   ]
  },
  {
   "cell_type": "code",
   "execution_count": null,
   "id": "040b329a",
   "metadata": {
    "scrolled": true
   },
   "outputs": [],
   "source": [
    "errs = '5e-05'\n",
    "sumstat_type = 'SR'\n",
    "replica = 'A'\n",
    "ensemble_path = get_ensemble_path(errs, replica, sumstat_type)\n",
    "inf_SR[replica] = infer_and_plot(ensemble_path, loop_coding_short[replica], man_sumstat=loop_coding_man[replica],\n",
    "                                   sumstats_to_simulate=10, plot_hdi=False, plot_freqs=False, plot_short_PPC=False,\n",
    "                                   plot_long_PPC=False, samples_per_model=1000, syn_prob=syn_prob)\n"
   ]
  },
  {
   "cell_type": "code",
   "execution_count": null,
   "id": "69971b38",
   "metadata": {
    "scrolled": true
   },
   "outputs": [],
   "source": [
    "errs = '5e-05'\n",
    "sumstat_type = 'SR'\n",
    "replica = 'B'\n",
    "ensemble_path = get_ensemble_path(errs, replica, sumstat_type)\n",
    "inf_SR[replica] = infer_and_plot(ensemble_path, loop_coding_short[replica], man_sumstat=loop_coding_man[replica],\n",
    "                                   sumstats_to_simulate=10, plot_hdi=False, plot_freqs=False, plot_short_PPC=False,\n",
    "                                   plot_long_PPC=False, samples_per_model=1000, syn_prob=syn_prob)\n"
   ]
  },
  {
   "cell_type": "code",
   "execution_count": null,
   "id": "1aed1ce3",
   "metadata": {
    "scrolled": true
   },
   "outputs": [],
   "source": [
    "errs = '5e-05'\n",
    "sumstat_type = 'SR'\n",
    "replica = 'C'\n",
    "ensemble_path = get_ensemble_path(errs, replica, sumstat_type)\n",
    "inf_SR[replica] = infer_and_plot(ensemble_path, loop_coding_short[replica], man_sumstat=loop_coding_man[replica],\n",
    "                                   sumstats_to_simulate=10, plot_hdi=False, plot_freqs=False, plot_short_PPC=False,\n",
    "                                   plot_long_PPC=False, samples_per_model=1000, syn_prob=syn_prob)\n"
   ]
  },
  {
   "cell_type": "code",
   "execution_count": null,
   "id": "222122d1",
   "metadata": {},
   "outputs": [],
   "source": [
    "compare_posts_across_lines(inf_SR)"
   ]
  },
  {
   "cell_type": "code",
   "execution_count": null,
   "id": "d7ea4bef",
   "metadata": {},
   "outputs": [],
   "source": [
    "all_posts = {'SR': pd.concat([x[0] for x in inf_SR.values()]),\n",
    "             'LR': pd.concat([x[0] for x in inf_LR.values()]),\n",
    "             'L-LR': pd.concat([x[0] for x in inf_LLR.values()])}\n",
    "compare_posts(all_posts)"
   ]
  },
  {
   "cell_type": "code",
   "execution_count": null,
   "id": "ce5301bc",
   "metadata": {},
   "outputs": [],
   "source": [
    "def compare_posts_for_paper(posts, title_suffix='', colors=None, alpha=0.7, mu_xticks=(-3,1)):\n",
    "    fig, axes = plt.subplots(3, 3, figsize=(18,15), constrained_layout=True)\n",
    "    ax_dict = {'Mutation\\nRate': (0,1), 'Syn\\nEffect': (0,2), 'Non-Syn\\nEffect': (0,0), \n",
    "               'Beneficial\\nEffect': (2,0), 'P0 Penalty': (2,2), \n",
    "               'Epistasis\\nFitness\\nBoost': (2,1), \n",
    "               'Beneficial\\nSyn\\nProbability': (1,2), 'Beneficial\\nNon-Syn\\nProbability': (1,0)}\n",
    "    if not colors:\n",
    "        colors = sns.color_palette(None)\n",
    "    title = 'Marginal Posteriors'\n",
    "    title += title_suffix\n",
    "    #fig.suptitle(title)\n",
    "    legend = True\n",
    "    for col_name, ax_index in ax_dict.items():\n",
    "        ax = axes[ax_index]\n",
    "        col = 'err' if 'Mutation' in col_name else 'rel_err'\n",
    "        for i, (name, df) in enumerate(posts.items()):\n",
    "            df[col_name].hist(bins=20, label=name if legend else '_nolegend', ax=ax, alpha=alpha, color=colors[i])\n",
    "            if 'Mutation' in col_name:\n",
    "                xticks = range(mu_xticks[0],mu_xticks[1])\n",
    "                ax.set_xticks(xticks)\n",
    "                ax.set_xticklabels([10**x for x in xticks])\n",
    "            if 'Probability' in col_name:\n",
    "                ax.set_xticks([0, 0.005, 0.01])\n",
    "                #ax.set_xticklabels([10**x for x in xticks])\n",
    "            if 'stasis' in col_name:\n",
    "                ax.axvline(0.5, ls='--', color='k')    \n",
    "        ax.set_xlabel(col_name.replace('\\n', ' '))\n",
    "        if 'Penalty' in col_name:\n",
    "            ax.set_xlabel('P0 log-fitness Correlation')\n",
    "        ax.set_ylabel('Count')\n",
    "        legend = False\n",
    "    fig.delaxes(axes[(1,1)])\n",
    "    #fig.delaxes(axes[(2,1)])\n",
    "    fig.legend(loc=(0.46,0.46))\n"
   ]
  },
  {
   "cell_type": "markdown",
   "id": "b9c6f6d3",
   "metadata": {},
   "source": [
    "## Fig 5B"
   ]
  },
  {
   "cell_type": "code",
   "execution_count": null,
   "id": "af485070",
   "metadata": {},
   "outputs": [],
   "source": [
    "compare_posts_for_paper({'SR': all_posts['SR'], 'LR': all_posts['LR'], 'L-LR': all_posts['L-LR']})"
   ]
  },
  {
   "cell_type": "markdown",
   "id": "b992b6bf",
   "metadata": {},
   "source": [
    "## Table 1 + Table S2 data"
   ]
  },
  {
   "cell_type": "code",
   "execution_count": null,
   "id": "5c2f7630",
   "metadata": {},
   "outputs": [],
   "source": [
    "all_posts_tmp = {k :v.rename(columns={v:k for k,v in rename_dict.items()}) for k,v in all_posts.items()}\n",
    "stats = {k : calc_stats(v, None, prior) for k,v in all_posts_tmp.items()}\n",
    "for k, v in stats.items():\n",
    "    for param in v.param.unique():\n",
    "        print(k)\n",
    "        print(param)\n",
    "        print(v[v.param==param][['hdi95_low', 'mode', 'hdi95_high']])"
   ]
  },
  {
   "cell_type": "markdown",
   "id": "31d9b6d8",
   "metadata": {},
   "source": [
    "## Fig 5A"
   ]
  },
  {
   "cell_type": "markdown",
   "id": "85adf5be",
   "metadata": {},
   "source": [
    "This code block requires FITS posterior file (FITS_post.tsv) which can be download from [Zenodo](https://zenodo.org/record/7486851/files/FITS_post.tar.gz?download=1)\n"
   ]
  },
  {
   "cell_type": "code",
   "execution_count": null,
   "id": "76344fb5",
   "metadata": {},
   "outputs": [],
   "source": [
    "def plot_post_estimates(ax):\n",
    "    fits_post = pd.read_table('FITS/FITS_post.tsv')\n",
    "    sample_size = 10000\n",
    "    bin_num = 30\n",
    "    alpha = 0.6\n",
    "    fits_post.log_U.sample(sample_size).hist(bins=bin_num, label='FITS', density=True, color=sns.color_palette()[7])\n",
    "    all_posts['SR']['Mutation\\nRate'].sample(sample_size).hist(bins=bin_num, alpha=alpha, label='SR', \n",
    "                                                               density=True,ax=ax)\n",
    "    all_posts['LR']['Mutation\\nRate'].sample(sample_size).hist(bins=bin_num, alpha=alpha, label='LR', \n",
    "                                                               density=True, ax=ax)\n",
    "    all_posts['L-LR']['Mutation\\nRate'].sample(sample_size).hist(bins=bin_num, alpha=alpha, label='L-LR', \n",
    "                                                                 density=True, ax=ax)\n",
    "    xticks = [-3,-2,-1,0, 1]\n",
    "    ax.xticks(xticks, labels=[10**x for x in xticks])\n",
    "    ax.yticks([0,0.5,1,1.5])\n",
    "    stop_codon_estimate = np.log10(0.187)\n",
    "    ax.axvline(stop_codon_estimate, ls='--', color='k', ymax=0.595)\n",
    "    ax.axhline(1, xmax=0.579, ls='--', color='k')\n",
    "    handles, labels = plt.gca().get_legend_handles_labels()\n",
    "    line = plt.Line2D([0], [0], label='Stop Codons \\n estimate', color='k', ls='--')\n",
    "    handles.extend([line])\n",
    "    ax.legend(handles=handles)\n"
   ]
  },
  {
   "cell_type": "code",
   "execution_count": null,
   "id": "740ac7ec",
   "metadata": {},
   "outputs": [],
   "source": [
    "def compare_posts_for_paper(posts, title_suffix='', colors=None, alpha=0.7, mu_xticks=(-3,1), legend_loc=(0.42,0.46)):\n",
    "    mosaic = \"\"\"\n",
    "        AAA\n",
    "        AAA\n",
    "        BCD\n",
    "        EFG\n",
    "        \"\"\"\n",
    "    fig = plt.figure(constrained_layout=True, figsize=(16,12))\n",
    "    ax_dict = fig.subplot_mosaic(mosaic)\n",
    "    param_to_plot_dict = {'Mutation rate (U)': 'A', r'Syn fitness effect ($w_{s}$)': 'B',\n",
    "                          r'Non-syn fitness effect ($w_{ns}$)': 'C', \n",
    "                          r'Beneficial syn probability ($p_{bs}$)': 'D', \n",
    "                          r'Beneficial fitness effect ($w_{b}$)': 'E', \n",
    "                          r'Epistasis effect ($\\eta$)': 'F', \n",
    "                          r'Beneficial non-syn probability ($p_{bns}$)': 'G'}\n",
    "    if not colors:\n",
    "        colors = sns.color_palette(None)\n",
    "    legend = True\n",
    "    for col_name, ax_index in param_to_plot_dict.items():\n",
    "        ax = ax_dict[ax_index]\n",
    "        col = 'err' if 'Mutation' in col_name else 'rel_err'\n",
    "        for i, (name, df) in enumerate(posts.items()):\n",
    "            breakpoint()\n",
    "            df[col_name].hist(bins=20, label=name if legend else '_nolegend', ax=ax, alpha=alpha, color=colors[i], density=True)\n",
    "            if 'Mutation' in col_name:\n",
    "                xticks = range(mu_xticks[0],mu_xticks[1])\n",
    "                ax.set_xticks(xticks)\n",
    "                ax.set_xticklabels([10**x for x in xticks])\n",
    "            if 'Probability' in col_name:\n",
    "                ax.set_xticks([0, 0.005, 0.01])\n",
    "                #ax.set_xticklabels([10**x for x in xticks])\n",
    "            if 'stasis' in col_name:\n",
    "                ax.axvline(0.5, ls='--', color='k')    \n",
    "        ax.set_xlabel(rename_dict_to_new[col_name])\n",
    "        if 'Penalty' in col_name:\n",
    "            ax.set_xlabel('P0 log-fitness Correlation')\n",
    "        ax.set_ylabel('Density', size=25)\n",
    "        legend = False\n",
    "    fig.legend(loc=legend_loc, title='summary statistic')\n"
   ]
  },
  {
   "cell_type": "code",
   "execution_count": null,
   "id": "f889075c",
   "metadata": {},
   "outputs": [],
   "source": [
    "compare_posts_for_paper({'SR': all_posts['SR'], 'LR': all_posts['LR'], 'L-LR': all_posts['L-LR']})"
   ]
  },
  {
   "cell_type": "markdown",
   "id": "f8d56acf",
   "metadata": {},
   "source": [
    "# Large Errors (10x loop errs)"
   ]
  },
  {
   "cell_type": "code",
   "execution_count": null,
   "id": "335dfb4f",
   "metadata": {},
   "outputs": [],
   "source": [
    "large_errs_LLR = {}"
   ]
  },
  {
   "cell_type": "code",
   "execution_count": null,
   "id": "5a9a56c1",
   "metadata": {
    "scrolled": true
   },
   "outputs": [],
   "source": [
    "errs = '5e-04'\n",
    "replica = 'A'\n",
    "sumstat_type = 'L-LR'\n",
    "ensemble_path = get_ensemble_path(errs, replica, sumstat_type)\n",
    "large_errs_LLR[replica] = infer_and_plot(ensemble_path, loop_coding_man[replica], man_sumstat=loop_coding_man[replica],\n",
    "                                   sumstats_to_simulate=10, plot_hdi=False, plot_freqs=False, plot_short_PPC=False,\n",
    "                                   plot_long_PPC=False, samples_per_model=1000, syn_prob=syn_prob)"
   ]
  },
  {
   "cell_type": "code",
   "execution_count": null,
   "id": "11eac9eb",
   "metadata": {
    "scrolled": true
   },
   "outputs": [],
   "source": [
    "errs = '5e-04'\n",
    "replica = 'B'\n",
    "sumstat_type = 'L-LR'\n",
    "ensemble_path = get_ensemble_path(errs, replica, sumstat_type)\n",
    "large_errs_LLR[replica] = infer_and_plot(ensemble_path, loop_coding_man[replica], man_sumstat=loop_coding_man[replica],\n",
    "                                   sumstats_to_simulate=10, plot_hdi=False, plot_freqs=False, plot_short_PPC=False,\n",
    "                                   plot_long_PPC=False, samples_per_model=1000, syn_prob=syn_prob)"
   ]
  },
  {
   "cell_type": "code",
   "execution_count": null,
   "id": "3260073b",
   "metadata": {
    "scrolled": true
   },
   "outputs": [],
   "source": [
    "errs = '5e-04'\n",
    "replica = 'C'\n",
    "sumstat_type = 'L-LR'\n",
    "ensemble_path = get_ensemble_path(errs, replica, sumstat_type)\n",
    "large_errs_LLR[replica] = infer_and_plot(ensemble_path, loop_coding_man[replica], man_sumstat=loop_coding_man[replica],\n",
    "                                   sumstats_to_simulate=10, plot_hdi=False, plot_freqs=False, plot_short_PPC=False,\n",
    "                                   plot_long_PPC=False, samples_per_model=1000, syn_prob=syn_prob)"
   ]
  },
  {
   "cell_type": "code",
   "execution_count": null,
   "id": "e8b3999c",
   "metadata": {},
   "outputs": [],
   "source": [
    "compare_posts_across_lines(large_errs_LLR)"
   ]
  },
  {
   "cell_type": "markdown",
   "id": "b4c8881b",
   "metadata": {},
   "source": [
    "## Fig S4"
   ]
  },
  {
   "cell_type": "code",
   "execution_count": null,
   "id": "56d0171a",
   "metadata": {},
   "outputs": [],
   "source": [
    "man_errs = {'E-05 Seq Error rate': pd.concat([x[0] for x in inf_LLR.values()]),\n",
    "            'E-04 Seq Error rate': pd.concat([x[0] for x in large_errs_LLR.values()])}\n",
    "compare_posts_for_paper(man_errs, mu_xticks=(-2,1))"
   ]
  },
  {
   "cell_type": "code",
   "execution_count": null,
   "id": "916c34cf",
   "metadata": {},
   "outputs": [],
   "source": [
    "replica = 'A'\n",
    "compare_posts({'low': inf_LLR[replica][0], 'high': large_errs_LLR[replica][0]})"
   ]
  },
  {
   "cell_type": "code",
   "execution_count": null,
   "id": "8ef88202",
   "metadata": {},
   "outputs": [],
   "source": [
    "replica = 'B'\n",
    "compare_posts({'low': inf_LLR[replica][0], 'high': large_errs_LLR[replica][0]})"
   ]
  },
  {
   "cell_type": "code",
   "execution_count": null,
   "id": "88aa1c47",
   "metadata": {},
   "outputs": [],
   "source": [
    "replica = 'C'\n",
    "compare_posts({'low': inf_LLR[replica][0], 'high': large_errs_LLR[replica][0]})"
   ]
  },
  {
   "cell_type": "code",
   "execution_count": null,
   "id": "4161bf0c",
   "metadata": {},
   "outputs": [],
   "source": []
  }
 ],
 "metadata": {
  "kernelspec": {
   "display_name": "Python 3 (ipykernel)",
   "language": "python",
   "name": "python3"
  },
  "language_info": {
   "codemirror_mode": {
    "name": "ipython",
    "version": 3
   },
   "file_extension": ".py",
   "mimetype": "text/x-python",
   "name": "python",
   "nbconvert_exporter": "python",
   "pygments_lexer": "ipython3",
   "version": "3.9.5"
  }
 },
 "nbformat": 4,
 "nbformat_minor": 5
}
